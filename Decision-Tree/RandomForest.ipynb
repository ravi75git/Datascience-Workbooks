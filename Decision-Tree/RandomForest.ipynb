{
  "cells": [
    {
      "cell_type": "code",
      "execution_count": 4,
      "metadata": {
        "id": "KGULGtrFuPxY"
      },
      "outputs": [],
      "source": [
        "import pandas as pd \n",
        "from sklearn.model_selection import train_test_split \n",
        "from sklearn.linear_model import LogisticRegression\n",
        "from sklearn.tree import DecisionTreeClassifier\n",
        "import numpy as np\n",
        "import seaborn as sns\n",
        "from sklearn.metrics import confusion_matrix, f1_score\n",
        "\n",
        "\n",
        "from sklearn.model_selection import GridSearchCV, RandomizedSearchCV\n",
        "\n",
        "from sklearn.metrics import confusion_matrix, f1_score\n",
        "from sklearn.ensemble import RandomForestClassifier \n",
        "\n",
        "import warnings \n",
        "warnings.filterwarnings('ignore')\n"
      ]
    },
    {
      "cell_type": "code",
      "execution_count": 5,
      "metadata": {
        "id": "3bcwYep48s2D"
      },
      "outputs": [],
      "source": [
        "data = pd.read_csv(\"Automobile_data.csv\")"
      ]
    },
    {
      "cell_type": "code",
      "execution_count": 3,
      "metadata": {
        "colab": {
          "base_uri": "https://localhost:8080/"
        },
        "id": "L58DyPrT9DMl",
        "outputId": "a0964d9e-8e54-496c-b30f-7496c6353820"
      },
      "outputs": [
        {
          "data": {
            "text/plain": [
              "(205, 26)"
            ]
          },
          "execution_count": 3,
          "metadata": {},
          "output_type": "execute_result"
        }
      ],
      "source": [
        "data.shape"
      ]
    },
    {
      "cell_type": "code",
      "execution_count": 4,
      "metadata": {
        "colab": {
          "base_uri": "https://localhost:8080/"
        },
        "id": "hVbtCWsa9kTm",
        "outputId": "cf0a76f5-9910-4945-d475-ec07dfe1b921"
      },
      "outputs": [
        {
          "data": {
            "text/plain": [
              "Index(['symboling', 'normalized-losses', 'make', 'fuel-type', 'aspiration',\n",
              "       'num-of-doors', 'body-style', 'drive-wheels', 'engine-location',\n",
              "       'wheel-base', 'length', 'width', 'height', 'curb-weight', 'engine-type',\n",
              "       'num-of-cylinders', 'engine-size', 'fuel-system', 'bore', 'stroke',\n",
              "       'compression-ratio', 'horsepower', 'peak-rpm', 'city-mpg',\n",
              "       'highway-mpg', 'price'],\n",
              "      dtype='object')"
            ]
          },
          "execution_count": 4,
          "metadata": {},
          "output_type": "execute_result"
        }
      ],
      "source": [
        "data.columns"
      ]
    },
    {
      "cell_type": "code",
      "execution_count": 6,
      "metadata": {
        "colab": {
          "base_uri": "https://localhost:8080/"
        },
        "id": "oyA8lXQ89eTM",
        "outputId": "efefdc36-6556-43dd-d0f0-135c5e639dc5"
      },
      "outputs": [
        {
          "data": {
            "text/plain": [
              " 0    67\n",
              " 1    54\n",
              " 2    32\n",
              " 3    27\n",
              "-1    22\n",
              "-2     3\n",
              "Name: symboling, dtype: int64"
            ]
          },
          "execution_count": 6,
          "metadata": {},
          "output_type": "execute_result"
        }
      ],
      "source": [
        "data['symboling'].value_counts()"
      ]
    },
    {
      "cell_type": "code",
      "execution_count": 7,
      "metadata": {
        "id": "wbISzy5Y9o5c"
      },
      "outputs": [],
      "source": [
        "data.replace('?',np.nan,inplace = True)"
      ]
    },
    {
      "cell_type": "code",
      "execution_count": 8,
      "metadata": {
        "id": "G9KUOhMn9tLT"
      },
      "outputs": [],
      "source": [
        "string_col = data.select_dtypes(exclude = np.number).columns.tolist()"
      ]
    },
    {
      "cell_type": "code",
      "execution_count": 9,
      "metadata": {
        "colab": {
          "base_uri": "https://localhost:8080/"
        },
        "id": "QbJ6xfgR9tOZ",
        "outputId": "c86f0975-0b14-43b9-bc30-11589989e2b1"
      },
      "outputs": [
        {
          "data": {
            "text/plain": [
              "symboling              int64\n",
              "normalized-losses     object\n",
              "make                  object\n",
              "fuel-type             object\n",
              "aspiration            object\n",
              "num-of-doors          object\n",
              "body-style            object\n",
              "drive-wheels          object\n",
              "engine-location       object\n",
              "wheel-base           float64\n",
              "length               float64\n",
              "width                float64\n",
              "height               float64\n",
              "curb-weight            int64\n",
              "engine-type           object\n",
              "num-of-cylinders      object\n",
              "engine-size            int64\n",
              "fuel-system           object\n",
              "bore                  object\n",
              "stroke                object\n",
              "compression-ratio    float64\n",
              "horsepower            object\n",
              "peak-rpm              object\n",
              "city-mpg               int64\n",
              "highway-mpg            int64\n",
              "price                 object\n",
              "dtype: object"
            ]
          },
          "execution_count": 9,
          "metadata": {},
          "output_type": "execute_result"
        }
      ],
      "source": [
        "num_cols = ['normalized-losses','bore','stroke','horsepower','peak-rpm','price']\n",
        "data.dtypes"
      ]
    },
    {
      "cell_type": "code",
      "execution_count": 10,
      "metadata": {
        "id": "ruUBZXWw9tQ_"
      },
      "outputs": [],
      "source": [
        "for i in num_cols: \n",
        "  data[i] = pd.to_numeric(data[i],errors = 'raise')"
      ]
    },
    {
      "cell_type": "code",
      "execution_count": 11,
      "metadata": {
        "id": "2p08Z5xL9tTp"
      },
      "outputs": [
        {
          "name": "stdout",
          "output_type": "stream",
          "text": [
            "\u001b[0;31mSignature:\u001b[0m \u001b[0mpd\u001b[0m\u001b[0;34m.\u001b[0m\u001b[0mto_numeric\u001b[0m\u001b[0;34m(\u001b[0m\u001b[0marg\u001b[0m\u001b[0;34m,\u001b[0m \u001b[0merrors\u001b[0m\u001b[0;34m=\u001b[0m\u001b[0;34m'raise'\u001b[0m\u001b[0;34m,\u001b[0m \u001b[0mdowncast\u001b[0m\u001b[0;34m=\u001b[0m\u001b[0;32mNone\u001b[0m\u001b[0;34m)\u001b[0m\u001b[0;34m\u001b[0m\u001b[0;34m\u001b[0m\u001b[0m\n",
            "\u001b[0;31mDocstring:\u001b[0m\n",
            "Convert argument to a numeric type.\n",
            "\n",
            "The default return dtype is `float64` or `int64`\n",
            "depending on the data supplied. Use the `downcast` parameter\n",
            "to obtain other dtypes.\n",
            "\n",
            "Please note that precision loss may occur if really large numbers\n",
            "are passed in. Due to the internal limitations of `ndarray`, if\n",
            "numbers smaller than `-9223372036854775808` (np.iinfo(np.int64).min)\n",
            "or larger than `18446744073709551615` (np.iinfo(np.uint64).max) are\n",
            "passed in, it is very likely they will be converted to float so that\n",
            "they can stored in an `ndarray`. These warnings apply similarly to\n",
            "`Series` since it internally leverages `ndarray`.\n",
            "\n",
            "Parameters\n",
            "----------\n",
            "arg : scalar, list, tuple, 1-d array, or Series\n",
            "    Argument to be converted.\n",
            "errors : {'ignore', 'raise', 'coerce'}, default 'raise'\n",
            "    - If 'raise', then invalid parsing will raise an exception.\n",
            "    - If 'coerce', then invalid parsing will be set as NaN.\n",
            "    - If 'ignore', then invalid parsing will return the input.\n",
            "downcast : {'integer', 'signed', 'unsigned', 'float'}, default None\n",
            "    If not None, and if the data has been successfully cast to a\n",
            "    numerical dtype (or if the data was numeric to begin with),\n",
            "    downcast that resulting data to the smallest numerical dtype\n",
            "    possible according to the following rules:\n",
            "\n",
            "    - 'integer' or 'signed': smallest signed int dtype (min.: np.int8)\n",
            "    - 'unsigned': smallest unsigned int dtype (min.: np.uint8)\n",
            "    - 'float': smallest float dtype (min.: np.float32)\n",
            "\n",
            "    As this behaviour is separate from the core conversion to\n",
            "    numeric values, any errors raised during the downcasting\n",
            "    will be surfaced regardless of the value of the 'errors' input.\n",
            "\n",
            "    In addition, downcasting will only occur if the size\n",
            "    of the resulting data's dtype is strictly larger than\n",
            "    the dtype it is to be cast to, so if none of the dtypes\n",
            "    checked satisfy that specification, no downcasting will be\n",
            "    performed on the data.\n",
            "\n",
            "Returns\n",
            "-------\n",
            "ret\n",
            "    Numeric if parsing succeeded.\n",
            "    Return type depends on input.  Series if Series, otherwise ndarray.\n",
            "\n",
            "See Also\n",
            "--------\n",
            "DataFrame.astype : Cast argument to a specified dtype.\n",
            "to_datetime : Convert argument to datetime.\n",
            "to_timedelta : Convert argument to timedelta.\n",
            "numpy.ndarray.astype : Cast a numpy array to a specified type.\n",
            "DataFrame.convert_dtypes : Convert dtypes.\n",
            "\n",
            "Examples\n",
            "--------\n",
            "Take separate series and convert to numeric, coercing when told to\n",
            "\n",
            ">>> s = pd.Series(['1.0', '2', -3])\n",
            ">>> pd.to_numeric(s)\n",
            "0    1.0\n",
            "1    2.0\n",
            "2   -3.0\n",
            "dtype: float64\n",
            ">>> pd.to_numeric(s, downcast='float')\n",
            "0    1.0\n",
            "1    2.0\n",
            "2   -3.0\n",
            "dtype: float32\n",
            ">>> pd.to_numeric(s, downcast='signed')\n",
            "0    1\n",
            "1    2\n",
            "2   -3\n",
            "dtype: int8\n",
            ">>> s = pd.Series(['apple', '1.0', '2', -3])\n",
            ">>> pd.to_numeric(s, errors='ignore')\n",
            "0    apple\n",
            "1      1.0\n",
            "2        2\n",
            "3       -3\n",
            "dtype: object\n",
            ">>> pd.to_numeric(s, errors='coerce')\n",
            "0    NaN\n",
            "1    1.0\n",
            "2    2.0\n",
            "3   -3.0\n",
            "dtype: float64\n",
            "\u001b[0;31mFile:\u001b[0m      ~/anaconda3/lib/python3.8/site-packages/pandas/core/tools/numeric.py\n",
            "\u001b[0;31mType:\u001b[0m      function\n"
          ]
        }
      ],
      "source": [
        "pd.to_numeric?"
      ]
    },
    {
      "cell_type": "code",
      "execution_count": 12,
      "metadata": {
        "id": "CmncroCd9tWu"
      },
      "outputs": [],
      "source": [
        "#categorical converstion\n",
        "from pandas.api.types import is_string_dtype\n",
        "for i in data: \n",
        "  if is_string_dtype(data[i]):\n",
        "    data[i] = data[i].astype('category').cat.as_unordered()"
      ]
    },
    {
      "cell_type": "code",
      "execution_count": 13,
      "metadata": {
        "colab": {
          "base_uri": "https://localhost:8080/"
        },
        "id": "oSGLr82lAnGZ",
        "outputId": "e3290fd2-b379-4b4e-ada2-81f23c796f5f"
      },
      "outputs": [
        {
          "data": {
            "text/plain": [
              "mpfi    94\n",
              "2bbl    66\n",
              "idi     20\n",
              "1bbl    11\n",
              "spdi     9\n",
              "4bbl     3\n",
              "spfi     1\n",
              "mfi      1\n",
              "Name: fuel-system, dtype: int64"
            ]
          },
          "execution_count": 13,
          "metadata": {},
          "output_type": "execute_result"
        }
      ],
      "source": [
        "data['fuel-system'].value_counts()"
      ]
    },
    {
      "cell_type": "code",
      "execution_count": 14,
      "metadata": {
        "id": "pD_Kj4wHAnKC"
      },
      "outputs": [
        {
          "name": "stdout",
          "output_type": "stream",
          "text": [
            "\u001b[0;31mRepr:\u001b[0m <alias cat for 'cat'>\n"
          ]
        }
      ],
      "source": [
        "data['fuel-system'].cat?"
      ]
    },
    {
      "cell_type": "code",
      "execution_count": 15,
      "metadata": {},
      "outputs": [
        {
          "data": {
            "text/plain": [
              "<pandas.core.arrays.categorical.CategoricalAccessor object at 0x7f18205dac10>"
            ]
          },
          "execution_count": 15,
          "metadata": {},
          "output_type": "execute_result"
        }
      ],
      "source": [
        "data['fuel-system'].cat"
      ]
    },
    {
      "cell_type": "code",
      "execution_count": 16,
      "metadata": {},
      "outputs": [
        {
          "data": {
            "text/plain": [
              "<pandas.core.arrays.categorical.CategoricalAccessor object at 0x7f18205dac10>"
            ]
          },
          "execution_count": 16,
          "metadata": {},
          "output_type": "execute_result"
        }
      ],
      "source": [
        "data['fuel-system'].cat"
      ]
    },
    {
      "cell_type": "code",
      "execution_count": 17,
      "metadata": {
        "id": "MKTYQbVmAnNK"
      },
      "outputs": [],
      "source": [
        "#Cat code conversions\n",
        "for i in data: \n",
        "  if(str(data[i].dtype)=='category'):\n",
        "    data[i] = data[i].cat.codes"
      ]
    },
    {
      "cell_type": "code",
      "execution_count": 19,
      "metadata": {
        "id": "BIkf0-mNCKpF"
      },
      "outputs": [],
      "source": [
        "data.fillna(data.median(),inplace= True)\n",
        "#data.dropna()"
      ]
    },
    {
      "cell_type": "code",
      "execution_count": 20,
      "metadata": {
        "id": "s6-HEwOHCKl9"
      },
      "outputs": [],
      "source": [
        "#Modelling\n",
        "X = data.drop('symboling',axis = 1)\n",
        "y = data['symboling']"
      ]
    },
    {
      "cell_type": "code",
      "execution_count": 21,
      "metadata": {
        "id": "MsM4-e4YCKjZ"
      },
      "outputs": [],
      "source": [
        "#train and test\n",
        "x_train, x_val, y_train, y_val = train_test_split(X,y,test_size = 0.2,random_state = 100)"
      ]
    },
    {
      "cell_type": "code",
      "execution_count": 22,
      "metadata": {
        "colab": {
          "base_uri": "https://localhost:8080/",
          "height": 445
        },
        "id": "zP7GViKaCKgT",
        "outputId": "f91252c1-dbbe-4d15-b598-97b45aab2aef"
      },
      "outputs": [
        {
          "name": "stdout",
          "output_type": "stream",
          "text": [
            "The F1Score using LR, 0.18495934959349591\n"
          ]
        },
        {
          "data": {
            "image/png": "[encoded data removed]",
            "text/plain": [
              "<Figure size 432x288 with 2 Axes>"
            ]
          },
          "metadata": {
            "needs_background": "light"
          },
          "output_type": "display_data"
        }
      ],
      "source": [
        "lr = LogisticRegression()\n",
        "lr.fit(x_train,y_train)\n",
        "y_predict = lr.predict(x_val)\n",
        "sns.heatmap(confusion_matrix(y_val,y_predict),annot = True)\n",
        "print(\"The F1Score using LR,\",f1_score(y_val,y_predict,average = 'weighted'))"
      ]
    },
    {
      "cell_type": "code",
      "execution_count": 23,
      "metadata": {
        "colab": {
          "base_uri": "https://localhost:8080/",
          "height": 286
        },
        "id": "VU4DiZhfHQA0",
        "outputId": "511453c4-a48a-4dc9-8bc1-5279ef45a8a0"
      },
      "outputs": [
        {
          "name": "stdout",
          "output_type": "stream",
          "text": [
            "The F1Score using DT: 0.7486556485121765\n"
          ]
        },
        {
          "data": {
            "image/png": "[encoded data removed]",
            "text/plain": [
              "<Figure size 432x288 with 2 Axes>"
            ]
          },
          "metadata": {
            "needs_background": "light"
          },
          "output_type": "display_data"
        }
      ],
      "source": [
        "dt = DecisionTreeClassifier()\n",
        "dt.fit(x_train,y_train)\n",
        "y_predict = dt.predict(x_val)\n",
        "sns.heatmap(confusion_matrix(y_val,y_predict),annot = True)\n",
        "print(\"The F1Score using DT:\",f1_score(y_val,y_predict,average = 'weighted'))"
      ]
    },
    {
      "cell_type": "code",
      "execution_count": 24,
      "metadata": {
        "id": "LFjfJ-JiCKeJ"
      },
      "outputs": [
        {
          "data": {
            "text/plain": [
              "0.7987804878048781"
            ]
          },
          "execution_count": 24,
          "metadata": {},
          "output_type": "execute_result"
        }
      ],
      "source": [
        "#Out of bag score is a special property for Random Forest alone\n",
        "rf_o = RandomForestClassifier(oob_score = True)\n",
        "rf_o.fit(x_train, y_train)\n",
        "rf_o.oob_score_"
      ]
    },
    {
      "cell_type": "code",
      "execution_count": 26,
      "metadata": {
        "id": "054y-WRvCKbi"
      },
      "outputs": [],
      "source": [
        "#Manual method\n",
        "#Simple for loop method\n",
        "NoofEstimator = [5,10,15,20] #n_estimator = no of tress\n",
        "#Since we have smaller data set we are considering min values\n",
        "MinSampleLeaf = [1,3,5,7] # min sample leaf to be there after split\n",
        "MaxFeature = np.arange(0.1,1,0.1) #max_features = columns for each of the tree - Tree can have a max of \n",
        "\n",
        "best_score = []\n",
        "\n",
        "for i in NoofEstimator:\n",
        "    for j in MinSampleLeaf:\n",
        "        for k in MaxFeature:\n",
        "            result = [i,j,k]\n",
        "            rfc = RandomForestClassifier(n_estimators=i,\n",
        "                                        min_samples_leaf=j,\n",
        "                                        max_features=0.1)\n",
        "        rfc.fit(x_train,y_train)\n",
        "        result.append(rfc.score(x_train,y_train))\n",
        "        result.append(rfc.score(x_val,y_val))\n",
        "        if (len(best_score)==0):\n",
        "            best_score = result\n",
        "        elif(best_score[4] < result[4]):\n",
        "            best_score =  result\n",
        "            print(best_score)        "
      ]
    },
    {
      "cell_type": "code",
      "execution_count": null,
      "metadata": {
        "id": "LS_-J2gsCKYb"
      },
      "outputs": [],
      "source": []
    },
    {
      "cell_type": "code",
      "execution_count": null,
      "metadata": {
        "id": "UH2_wyW_AnRW"
      },
      "outputs": [],
      "source": []
    },
    {
      "cell_type": "code",
      "execution_count": null,
      "metadata": {
        "id": "mFae2CLz9tZ3"
      },
      "outputs": [],
      "source": []
    },
    {
      "cell_type": "code",
      "execution_count": null,
      "metadata": {
        "id": "WycrYDZ29tc_"
      },
      "outputs": [],
      "source": []
    }
  ],
  "metadata": {
    "colab": {
      "name": "DecisionTree.ipynb",
      "provenance": []
    },
    "kernelspec": {
      "display_name": "Python 3",
      "name": "python3"
    },
    "language_info": {
      "codemirror_mode": {
        "name": "ipython",
        "version": 3
      },
      "file_extension": ".py",
      "mimetype": "text/x-python",
      "name": "python",
      "nbconvert_exporter": "python",
      "pygments_lexer": "ipython3",
      "version": "3.8.5"
    }
  },
  "nbformat": 4,
  "nbformat_minor": 0
}
