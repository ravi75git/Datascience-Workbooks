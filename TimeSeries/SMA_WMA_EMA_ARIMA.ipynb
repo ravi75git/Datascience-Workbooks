{
 "cells": [
  {
   "cell_type": "code",
   "execution_count": null,
   "metadata": {
    "colab": {
     "base_uri": "https://localhost:8080/"
    },
    "id": "ztxFhsSKEHoy",
    "outputId": "c8331b24-1c7c-4a80-9f65-571198889244"
   },
   "outputs": [],
   "source": [
    "import numpy as np\n",
    "import pandas as pd\n",
    "import matplotlib.pyplot as plt\n",
    "from pandas import datetime\n",
    "from statsmodels.tsa.arima_model import ARIMA\n",
    "plt.style.use('fivethirtyeight')\n"
   ]
  },
  {
   "cell_type": "code",
   "execution_count": null,
   "metadata": {
    "colab": {
     "base_uri": "https://localhost:8080/",
     "height": 206
    },
    "id": "QuoZnlLmGUT3",
    "outputId": "c78532fa-3f93-439c-e281-7a8a4b8d0ef1"
   },
   "outputs": [],
   "source": [
    "df = pd.read_csv('TSLA.csv')\n",
    "df.head()"
   ]
  },
  {
   "cell_type": "code",
   "execution_count": null,
   "metadata": {
    "colab": {
     "base_uri": "https://localhost:8080/",
     "height": 206
    },
    "id": "pSJBxGRRG_ft",
    "outputId": "ff55da82-cbd3-4031-8db1-5a54dfabc9b2"
   },
   "outputs": [],
   "source": [
    "df = df.loc[:,['Date','Close']]\n",
    "df.head()"
   ]
  },
  {
   "cell_type": "code",
   "execution_count": null,
   "metadata": {
    "colab": {
     "base_uri": "https://localhost:8080/",
     "height": 238
    },
    "id": "groh0-XcHNHQ",
    "outputId": "83e348c6-8dce-4094-e21a-6d026e4e59c0"
   },
   "outputs": [],
   "source": [
    "#plot the data\n",
    "train = df.loc[df['Date'] <= '2021-12-31']\n",
    "test = df.loc[df['Date'] > '2021-12-31']\n",
    "test = test.set_index('Date')\n",
    "\n",
    "test.index = pd.to_datetime(test.index)\n",
    "test.head()"
   ]
  },
  {
   "cell_type": "code",
   "execution_count": null,
   "metadata": {
    "colab": {
     "base_uri": "https://localhost:8080/",
     "height": 388
    },
    "id": "0zIZB54mIBP4",
    "outputId": "915aa656-e156-4a3c-df26-00480700e8be"
   },
   "outputs": [],
   "source": [
    "#plotting\n",
    "plt.figure(figsize=(12,6))\n",
    "plt.plot(test['Close'], label='Price')\n",
    "plt.xlabel('Date')\n",
    "plt.ylabel('Closing Price')\n",
    "plt.show()"
   ]
  },
  {
   "cell_type": "code",
   "execution_count": null,
   "metadata": {
    "colab": {
     "base_uri": "https://localhost:8080/",
     "height": 388
    },
    "id": "L80ze57vI_zw",
    "outputId": "566d19c7-6c0b-43f7-ad83-ae6bc6b17ec8"
   },
   "outputs": [],
   "source": [
    "#Simple Moving Average - Rolling Mean - We can do rolling mean of the number of days - k value\n",
    "sma10 = df['Close'].rolling(10).mean()\n",
    "sma2 = df['Close'].rolling(2).mean()\n",
    "#The above code is for finding 10-days SMA.  This is done on the dataset\n",
    "\n",
    "df['10-day SMA'] = np.round(sma10,decimals=3)\n",
    "df['2-day SMA'] = np.round(sma2,decimals=3)\n",
    "train = df.loc[df['Date'] <= '2021-12-31']\n",
    "test = df.loc[df['Date'] > '2021-12-31']\n",
    "test = test.set_index('Date')\n",
    "test.index = pd.to_datetime(test.index)\n",
    "\n",
    "\n",
    "\n",
    "plt.figure(figsize=(12,6))\n",
    "plt.plot(test['Close'], label='Price')\n",
    "plt.plot(test['10-day SMA'],label='10-day SMA')\n",
    "plt.plot(test['2-day SMA'],label='2-day SMA')\n",
    "plt.xlabel('Date')\n",
    "plt.ylabel('Closing Price')\n",
    "plt.legend()\n",
    "plt.show()\n"
   ]
  },
  {
   "cell_type": "code",
   "execution_count": null,
   "metadata": {
    "colab": {
     "base_uri": "https://localhost:8080/",
     "height": 520
    },
    "id": "chqiT1twKHG8",
    "outputId": "7d1ad6a1-6371-413c-a854-16b9b32adf9a"
   },
   "outputs": [],
   "source": [
    "df.head(15)"
   ]
  },
  {
   "cell_type": "code",
   "execution_count": null,
   "metadata": {
    "id": "GKtZBtwVM39r"
   },
   "outputs": [],
   "source": [
    "from sklearn.metrics import mean_absolute_percentage_error"
   ]
  },
  {
   "cell_type": "code",
   "execution_count": null,
   "metadata": {},
   "outputs": [],
   "source": [
    "df.tail(15)\n",
    "df.head(15)"
   ]
  },
  {
   "cell_type": "code",
   "execution_count": null,
   "metadata": {},
   "outputs": [],
   "source": [
    "#Laxmi look from here\n",
    "#Finding the last date for the data available\n",
    "#last_date = df['Date'].max()\n",
    "#history = [x for x in df]\n",
    "predictions = list()\n",
    "#t = 3\n",
    "\n",
    "for t in range(len(df)):\n",
    "    #if (t!=0 && t!=1):\n",
    "    #    print(df.loc[t+1]['Date'])\n",
    "    #    print(df.loc[t+1]['2-day SMA'])\n",
    "    if(t == 0 or t == 1):\n",
    "        pred_value = np.NaN\n",
    "    else:\n",
    "        pred_value = df.loc[t-1]['2-day SMA']\n",
    "    predictions.append(pred_value)\n",
    "#Appending predictions to the dataset df\n",
    "df.loc[:,'2-day Pred'] = predictions\n",
    "#df.head(15)\n",
    "df.tail(15)"
   ]
  },
  {
   "cell_type": "code",
   "execution_count": null,
   "metadata": {},
   "outputs": [],
   "source": [
    "df_new = df   \n"
   ]
  },
  {
   "cell_type": "code",
   "execution_count": null,
   "metadata": {},
   "outputs": [],
   "source": [
    "df_new.tail(10)"
   ]
  },
  {
   "cell_type": "code",
   "execution_count": null,
   "metadata": {},
   "outputs": [],
   "source": [
    "start_date = pd.to_datetime(df['Date'].max())\n",
    "#print(start_date)\n",
    "#print(type(start_date))\n",
    "end_date = start_date + pd.DateOffset(days=7)\n",
    "\n",
    "#print(type(end_date))\n",
    "date_list_pred = list()\n",
    "while start_date <= end_date:\n",
    "    next_date = start_date + pd.DateOffset(days=1)\n",
    "    prev_date = start_date + pd.DateOffset(days=-1)\n",
    "    if not (next_date.weekday()==5 or next_date.weekday()==6):\n",
    "        #df_new.loc[len(df_new.index)] = [next_date,np.nan,np.nan,np.nan,\n",
    "        #\n",
    "        #print(df_new.loc[len(df_new.index)-1]['2-day Pred'])\n",
    "        #print(df_new.loc[len(df_new.index)-2]['2-day Pred'])\n",
    "        sma2_pred = (df_new.loc[len(df_new.index)-1]['2-day Pred'] + df_new.loc[len(df_new.index)-2]['2-day Pred'])/2\n",
    "        df_new.loc[len(df_new.index)] = [next_date,np.nan,np.nan,np.nan,sma2_pred]\n",
    "    start_date = start_date + pd.DateOffset(days=1)\n",
    "    #df_new.loc[len(df_new.index)] = [next_date,np.nan,np.nan,np.nan,np.nan]    \n",
    "df_new.tail(10)\n"
   ]
  },
  {
   "cell_type": "code",
   "execution_count": null,
   "metadata": {},
   "outputs": [],
   "source": []
  },
  {
   "cell_type": "code",
   "execution_count": null,
   "metadata": {
    "colab": {
     "base_uri": "https://localhost:8080/"
    },
    "id": "lnlgjp2HO4jV",
    "outputId": "0016efbc-5573-415f-cedc-53456115548b"
   },
   "outputs": [],
   "source": [
    "#Calculating the predictions for the next 5 days from current date based on the 2-day SMA\n",
    "#predictions = df['2-day SMA'].rolling(2).mean()\n",
    "#df['2-day SMA'].head(15)\n",
    "\n",
    "X = df['Close'].values\n",
    "size = np.sum(df['Date'] <= '2021-12-31')\n",
    "train, test = X[0:size], X[size:len(X)]\n",
    "\n",
    "history = [x for x in train]\n",
    "predictions = list()\n",
    "\n",
    "for t in range(len(test)) + 5:\n",
    "  #Take the first value\n",
    "  yhat = output[0]\n",
    "  predictions.append(yhat)\n",
    "  obs = test[t]\n",
    "  history.append(obs)\n",
    "  #history.append(yhat)\n"
   ]
  },
  {
   "cell_type": "code",
   "execution_count": null,
   "metadata": {
    "colab": {
     "base_uri": "https://localhost:8080/"
    },
    "id": "2_iB5AiOgVxm",
    "outputId": "eb8cc0d5-1f40-468e-c898-0a914c127533"
   },
   "outputs": [],
   "source": [
    "prediction.head(15)"
   ]
  },
  {
   "cell_type": "code",
   "execution_count": null,
   "metadata": {
    "colab": {
     "base_uri": "https://localhost:8080/"
    },
    "id": "KMR8IC7SPWLu",
    "outputId": "71115e27-41b2-42ad-ac99-4fb79ac25c6f"
   },
   "outputs": [],
   "source": [
    "#Weighted moving average - for 10 days\n",
    "weights = np.arange(1,11)\n",
    "weights\n",
    "wma10 = df['Close'].rolling(10).apply(lambda price: np.dot(price,weights)/weights.sum(), raw = True)\n",
    "wma10"
   ]
  },
  {
   "cell_type": "code",
   "execution_count": null,
   "metadata": {
    "colab": {
     "base_uri": "https://localhost:8080/"
    },
    "id": "q4BnbrW-RKNf",
    "outputId": "b9ededab-99cb-4789-e379-1a58c6794e0a"
   },
   "outputs": [],
   "source": [
    "np.dot([3,3],[2,5])"
   ]
  },
  {
   "cell_type": "code",
   "execution_count": null,
   "metadata": {
    "colab": {
     "base_uri": "https://localhost:8080/",
     "height": 388
    },
    "id": "90BUBdZDTHVa",
    "outputId": "a2c7a22e-3d71-451a-c3d6-ad050a1e23b2"
   },
   "outputs": [],
   "source": [
    "#Exponential moving average\n",
    "ema10 = df['Close'].ewm(span=10,adjust= False).mean()\n",
    "ema2 = df['Close'].ewm(span=2,adjust= False).mean()\n",
    "\n",
    "df['10-day EMA'] = np.round(ema10,decimals=3)\n",
    "df['2-day EMA'] = np.round(ema2,decimals=3)\n",
    "train = df.loc[df['Date'] <= '2021-12-31']\n",
    "test = df.loc[df['Date'] > '2021-12-31']\n",
    "test = test.set_index('Date')\n",
    "test.index = pd.to_datetime(test.index)\n",
    "\n",
    "\n",
    "\n",
    "plt.figure(figsize=(12,6))\n",
    "plt.plot(test['Close'], label='Price')\n",
    "plt.plot(test['10-day EMA'],label='10-day EMA')\n",
    "plt.plot(test['2-day EMA'],label='2-day EMA')\n",
    "plt.xlabel('Date')\n",
    "plt.ylabel('Closing Price')\n",
    "plt.legend()\n",
    "plt.show()\n"
   ]
  },
  {
   "cell_type": "code",
   "execution_count": null,
   "metadata": {
    "colab": {
     "base_uri": "https://localhost:8080/",
     "height": 363
    },
    "id": "dDCl8FrnU_DF",
    "outputId": "fe915cd2-70e0-4de2-9892-8c68ee3be063"
   },
   "outputs": [],
   "source": [
    "df.head(10)"
   ]
  },
  {
   "cell_type": "code",
   "execution_count": null,
   "metadata": {
    "colab": {
     "base_uri": "https://localhost:8080/",
     "height": 388
    },
    "id": "yQH1OibpVbYI",
    "outputId": "ebd4a046-fd11-4def-b220-253b08ad8313"
   },
   "outputs": [],
   "source": [
    "#ARIMA - Proper model which puts the differentiation into prediction\n",
    "#How will be my model performance for the next 1 day\n",
    "from statsmodels.tsa.arima_model import ARIMA\n",
    "X = df['Close'].values\n",
    "size = np.sum(df['Date'] <= '2021-12-31')\n",
    "train, test = X[0:size], X[size:len(X)]\n",
    "\n",
    "history = [x for x in train]\n",
    "predictions = list()\n",
    "\n",
    "for t in range(len(test)):\n",
    "  model = ARIMA(history, order=(1,1,0)) #Order p,q,d\n",
    "  model_fit = model.fit()\n",
    "  output = model_fit.forecast()\n",
    "  #Take the first value\n",
    "  yhat = output[0]\n",
    "  predictions.append(yhat)\n",
    "  obs = test[t]\n",
    "  history.append(obs)\n",
    "  #history.append(yhat)\n",
    "\n",
    "test = df.loc[df['Date'] > '2021-12-31']\n",
    "test = test.set_index('Date')\n",
    "test.index = pd.to_datetime(test.index)\n",
    "test.loc[:,'ARIMA'] = predictions\n",
    "\n",
    "\n",
    "\n",
    "plt.figure(figsize=(12,6))\n",
    "plt.plot(test['Close'], label='Price')\n",
    "plt.plot(test['ARIMA'],label='ARIMA')\n",
    "#plt.plot(test['2-day EMA'],label='2-day EMA')\n",
    "plt.xlabel('Date')\n",
    "plt.ylabel('Closing Price')\n",
    "plt.legend()\n",
    "plt.show()\n",
    "\n",
    "\n",
    "    "
   ]
  },
  {
   "cell_type": "code",
   "execution_count": null,
   "metadata": {
    "colab": {
     "base_uri": "https://localhost:8080/",
     "height": 388
    },
    "id": "TFfomVa7bqKl",
    "outputId": "926d6254-5af2-4535-f436-4c51fb84de85"
   },
   "outputs": [],
   "source": [
    "#ARIMA - Proper model which puts the differentiation into prediction\n",
    "#How will be my model performance for the next 1 day\n",
    "from statsmodels.tsa.arima_model import ARIMA\n",
    "X = df['Close'].values\n",
    "size = np.sum(df['Date'] <= '2021-12-31')\n",
    "train, test = X[0:size], X[size:len(X)]\n",
    "\n",
    "history = [x for x in train]\n",
    "predictions = list()\n",
    "\n",
    "for t in range(len(test)):\n",
    "  model = ARIMA(history, order=(1,2,0)) #Order p,d,q\n",
    "  #P - AR\n",
    "  # D - max 2\n",
    "  # Q - MA (Order)\n",
    "  model_fit = model.fit()\n",
    "  output = model_fit.forecast()\n",
    "  #Take the first value\n",
    "  yhat = output[0]\n",
    "  predictions.append(yhat)\n",
    "  obs = test[t]\n",
    "  history.append(obs)\n",
    "  #history.append(yhat)\n",
    "\n",
    "test = df.loc[df['Date'] > '2021-12-31']\n",
    "test = test.set_index('Date')\n",
    "test.index = pd.to_datetime(test.index)\n",
    "test.loc[:,'ARIMA'] = predictions\n",
    "\n",
    "\n",
    "\n",
    "plt.figure(figsize=(12,6))\n",
    "plt.plot(test['Close'], label='Price')\n",
    "plt.plot(test['ARIMA'],label='ARIMA')\n",
    "#plt.plot(test['2-day EMA'],label='2-day EMA')\n",
    "plt.xlabel('Date')\n",
    "plt.ylabel('Closing Price')\n",
    "plt.legend()\n",
    "plt.show()\n"
   ]
  },
  {
   "cell_type": "code",
   "execution_count": null,
   "metadata": {
    "colab": {
     "base_uri": "https://localhost:8080/",
     "height": 306
    },
    "id": "M-4lQWCXcn7r",
    "outputId": "ccbc94ac-f4ae-4adb-98d6-772085fa91bb"
   },
   "outputs": [],
   "source": [
    "!pip install "
   ]
  }
 ],
 "metadata": {
  "colab": {
   "collapsed_sections": [],
   "name": "SMA_WMA_EMA_ARIMA.ipynb",
   "provenance": [],
   "toc_visible": true
  },
  "kernelspec": {
   "display_name": "Python 3 (ipykernel)",
   "language": "python",
   "name": "python3"
  },
  "language_info": {
   "codemirror_mode": {
    "name": "ipython",
    "version": 3
   },
   "file_extension": ".py",
   "mimetype": "text/x-python",
   "name": "python",
   "nbconvert_exporter": "python",
   "pygments_lexer": "ipython3",
   "version": "3.8.8"
  }
 },
 "nbformat": 4,
 "nbformat_minor": 1
}
